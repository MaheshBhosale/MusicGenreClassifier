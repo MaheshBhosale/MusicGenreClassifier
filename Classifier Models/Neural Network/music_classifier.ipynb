{
 "cells": [
  {
   "cell_type": "code",
   "execution_count": 2,
   "metadata": {},
   "outputs": [],
   "source": [
    "import torch\n",
    "from torch.utils.data import Dataset, DataLoader\n",
    "import pandas as pd\n",
    "import numpy as np"
   ]
  },
  {
   "cell_type": "code",
   "execution_count": 3,
   "metadata": {},
   "outputs": [
    {
     "name": "stdout",
     "output_type": "stream",
     "text": [
      "0.4.0\n"
     ]
    }
   ],
   "source": [
    "print(torch.__version__)"
   ]
  },
  {
   "cell_type": "code",
   "execution_count": 4,
   "metadata": {},
   "outputs": [],
   "source": [
    "class MusicGenreTrainSet(Dataset):\n",
    "\n",
    "    def __init__(self, path):\n",
    "        Dataset.__init__(self)\n",
    "        self.path = path\n",
    "        self.dataset = pd.read_csv(path, delimiter=\",\")\n",
    "        self.dataset = self.dataset.sample(frac=1)\n",
    "        self.dataset.replace(to_replace='blues', value=0, inplace=True)\n",
    "        self.dataset.replace(to_replace='classical', value=1, inplace=True)\n",
    "        self.dataset.replace(to_replace='country', value=2, inplace=True)\n",
    "        self.dataset.replace(to_replace='disco', value=3, inplace=True)\n",
    "        self.dataset.replace(to_replace='hiphop', value=4, inplace=True)\n",
    "        self.dataset.replace(to_replace='jazz', value=5, inplace=True)\n",
    "        self.dataset.replace(to_replace='metal', value=6, inplace=True)\n",
    "        self.dataset.replace(to_replace='pop', value=7, inplace=True)\n",
    "        self.dataset.replace(to_replace='reggae', value=8, inplace=True)\n",
    "        self.dataset.replace(to_replace='rock', value=9, inplace=True)\n",
    "        self.data = self.dataset.iloc[:-200, :-1].as_matrix()\n",
    "        self.label = self.dataset.iloc[:-200, -1:].as_matrix()\n",
    "\n",
    "    def __getitem__(self, item):\n",
    "        return self.data[item, :], self.label[item]\n",
    "\n",
    "    def __len__(self):\n",
    "        return len(self.data[:, :])"
   ]
  },
  {
   "cell_type": "code",
   "execution_count": 5,
   "metadata": {},
   "outputs": [],
   "source": [
    "class MusicGenreTestSet(Dataset):\n",
    "\n",
    "    def __init__(self, path):\n",
    "        Dataset.__init__(self)\n",
    "        self.path = path\n",
    "        self.dataset = pd.read_csv(path, delimiter=\",\")\n",
    "        self.dataset = self.dataset.sample(frac=1)\n",
    "        self.dataset.replace(to_replace='blues', value=0, inplace=True)\n",
    "        self.dataset.replace(to_replace='classical', value=1, inplace=True)\n",
    "        self.dataset.replace(to_replace='country', value=2, inplace=True)\n",
    "        self.dataset.replace(to_replace='disco', value=3, inplace=True)\n",
    "        self.dataset.replace(to_replace='hiphop', value=4, inplace=True)\n",
    "        self.dataset.replace(to_replace='jazz', value=5, inplace=True)\n",
    "        self.dataset.replace(to_replace='metal', value=6, inplace=True)\n",
    "        self.dataset.replace(to_replace='pop', value=7, inplace=True)\n",
    "        self.dataset.replace(to_replace='reggae', value=8, inplace=True)\n",
    "        self.dataset.replace(to_replace='rock', value=9, inplace=True)\n",
    "        self.data = self.dataset.iloc[-200:, :-1].as_matrix()\n",
    "        self.label = self.dataset.iloc[-200:, -1:].as_matrix()\n",
    "\n",
    "    def __getitem__(self, item):\n",
    "        return self.data[item, :], self.label[item]\n",
    "\n",
    "    def __len__(self):\n",
    "        return len(self.data[:, :])"
   ]
  },
  {
   "cell_type": "code",
   "execution_count": 6,
   "metadata": {},
   "outputs": [],
   "source": [
    "class Model(torch.nn.Module):\n",
    "\n",
    "    def __init__(self, input, hidden, output):\n",
    "        torch.nn.Module.__init__(self)\n",
    "        self.layer1 = torch.nn.Linear(input, hidden)\n",
    "        self.layer2 = torch.nn.Linear(hidden, output)\n",
    "        self.relu = torch.nn.ReLU()\n",
    "\n",
    "    def forward(self, input):\n",
    "        out1 = self.relu(self.layer1(input))\n",
    "        out2 = self.layer2(out1)\n",
    "        return out2\n"
   ]
  },
  {
   "cell_type": "code",
   "execution_count": 7,
   "metadata": {},
   "outputs": [],
   "source": [
    "# GPU\n",
    "device = torch.device(\"cuda\")"
   ]
  },
  {
   "cell_type": "code",
   "execution_count": 8,
   "metadata": {},
   "outputs": [],
   "source": [
    "# seed values\n",
    "torch.manual_seed(100)\n",
    "np.random.seed(100)"
   ]
  },
  {
   "cell_type": "code",
   "execution_count": 17,
   "metadata": {},
   "outputs": [],
   "source": [
    "# Train and Test loader\n",
    "train_loader = MusicGenreTrainSet(path='C:\\\\Users\\\\Swapnil.Walke\\\\PycharmProjects\\\\PytorchExamples\\\\clean_data_norm.csv')\n",
    "test_loader = MusicGenreTestSet(path='C:\\\\Users\\\\Swapnil.Walke\\\\PycharmProjects\\\\PytorchExamples\\\\clean_data_norm.csv')\n",
    "train_loader = DataLoader(train_loader, batch_size=32, shuffle=True, num_workers=0)\n",
    "test_loader = DataLoader(test_loader, batch_size=32, shuffle=True, num_workers=0)"
   ]
  },
  {
   "cell_type": "code",
   "execution_count": 18,
   "metadata": {},
   "outputs": [],
   "source": [
    "# Input variables\n",
    "input = 28\n",
    "hidden = 50\n",
    "output = 10"
   ]
  },
  {
   "cell_type": "code",
   "execution_count": 19,
   "metadata": {},
   "outputs": [],
   "source": [
    "# criterion and entropy\n",
    "model = Model(input, hidden, output).to(device)\n",
    "criterion = torch.nn.CrossEntropyLoss()\n",
    "optimizer = torch.optim.SGD(model.parameters(), lr=0.01)"
   ]
  },
  {
   "cell_type": "code",
   "execution_count": 22,
   "metadata": {},
   "outputs": [
    {
     "name": "stderr",
     "output_type": "stream",
     "text": [
      "c:\\users\\swapnil.walke\\appdata\\local\\continuum\\anaconda3\\envs\\pytorch0.4\\lib\\site-packages\\ipykernel_launcher.py:15: UserWarning: invalid index of a 0-dim tensor. This will be an error in PyTorch 0.5. Use tensor.item() to convert a 0-dim tensor to a Python number\n",
      "  from ipykernel import kernelapp as app\n",
      "c:\\users\\swapnil.walke\\appdata\\local\\continuum\\anaconda3\\envs\\pytorch0.4\\lib\\site-packages\\ipykernel_launcher.py:25: UserWarning: invalid index of a 0-dim tensor. This will be an error in PyTorch 0.5. Use tensor.item() to convert a 0-dim tensor to a Python number\n"
     ]
    },
    {
     "name": "stdout",
     "output_type": "stream",
     "text": [
      "Epoch 0 : Train Loss : [0.5483368635177612] Test Loss : [1.286982774734497]\n",
      "Epoch 50 : Train Loss : [0.5575639605522156] Test Loss : [1.1937347650527954]\n",
      "Epoch 100 : Train Loss : [0.6576098799705505] Test Loss : [1.8422802686691284]\n",
      "Epoch 150 : Train Loss : [0.5884829759597778] Test Loss : [1.2908546924591064]\n",
      "Epoch 200 : Train Loss : [0.47698038816452026] Test Loss : [1.364964485168457]\n",
      "Epoch 250 : Train Loss : [0.5428142547607422] Test Loss : [1.3180692195892334]\n",
      "Epoch 300 : Train Loss : [0.42463308572769165] Test Loss : [1.6371128559112549]\n",
      "Epoch 350 : Train Loss : [0.36090266704559326] Test Loss : [1.2485010623931885]\n",
      "Epoch 400 : Train Loss : [0.3259235620498657] Test Loss : [1.0251888036727905]\n",
      "Epoch 450 : Train Loss : [0.2715655565261841] Test Loss : [1.395495891571045]\n",
      "Epoch 500 : Train Loss : [0.32484158873558044] Test Loss : [0.9633712768554688]\n",
      "Epoch 503 : Train Loss : [0.34206628799438477] Test Loss : [0.9576999545097351]\n"
     ]
    }
   ],
   "source": [
    "for epoch in range(504):\n",
    "    loss = 0.0\n",
    "    cnt = 1\n",
    "    for index, data in enumerate(train_loader):\n",
    "        x, y = data\n",
    "        x.requires_grad = True\n",
    "        x = x.float().to(device)\n",
    "        y = y.squeeze(1).to(device)\n",
    "        y_pred = model(x)\n",
    "        loss += criterion(y_pred, y)\n",
    "        optimizer.zero_grad()\n",
    "        loss.backward(retain_graph=True)\n",
    "        optimizer.step()\n",
    "        cnt = index\n",
    "    train_loss = loss.data[0]/cnt\n",
    "    loss = 0.0\n",
    "    cnt = 1\n",
    "    for index, data in enumerate(test_loader):\n",
    "        x, y = data\n",
    "        x = x.float().to(device)\n",
    "        y = y.squeeze(1).to(device)\n",
    "        y_pred = model(x)\n",
    "        loss += criterion(y_pred, y)\n",
    "        cnt = index\n",
    "    test_loss = loss.data[0]/cnt\n",
    "    if epoch % 50 == 0 or epoch == 503:\n",
    "        print(f'Epoch {epoch} : Train Loss : [{train_loss}] Test Loss : [{test_loss}]')"
   ]
  },
  {
   "cell_type": "code",
   "execution_count": 23,
   "metadata": {},
   "outputs": [
    {
     "name": "stdout",
     "output_type": "stream",
     "text": [
      "Accuracy : 0.83\n"
     ]
    }
   ],
   "source": [
    "cnt = 0.0\n",
    "tot = 0\n",
    "for index, data in enumerate(test_loader):\n",
    "    x, y = data\n",
    "    x = x.float().to(device)\n",
    "    y = y.squeeze(1).to(device)\n",
    "    y_pred = model(x)\n",
    "    preds = y_pred.cpu().detach().numpy().tolist()\n",
    "    expecteds = y.cpu().detach().numpy().tolist()\n",
    "    for index, pred in enumerate(preds):\n",
    "        pred_c = pred.index(max(pred))\n",
    "        if pred_c == expecteds[index]:\n",
    "            cnt += 1\n",
    "        tot += 1\n",
    "print(f'Accuracy : {cnt/tot}')"
   ]
  },
  {
   "cell_type": "code",
   "execution_count": null,
   "metadata": {},
   "outputs": [],
   "source": []
  }
 ],
 "metadata": {
  "kernelspec": {
   "display_name": "Python 3",
   "language": "python",
   "name": "python3"
  },
  "language_info": {
   "codemirror_mode": {
    "name": "ipython",
    "version": 3
   },
   "file_extension": ".py",
   "mimetype": "text/x-python",
   "name": "python",
   "nbconvert_exporter": "python",
   "pygments_lexer": "ipython3",
   "version": "3.6.5"
  }
 },
 "nbformat": 4,
 "nbformat_minor": 2
}
